{
 "cells": [
  {
   "cell_type": "code",
   "execution_count": 43,
   "id": "e66ba01b-95ba-40a8-be33-c2ab457eaa72",
   "metadata": {},
   "outputs": [],
   "source": [
    "import networkx as nx\n",
    "from pyvis.network import Network\n",
    "import neo4j"
   ]
  },
  {
   "cell_type": "code",
   "execution_count": 44,
   "id": "a5fa7238-7a08-4b78-98a6-69049811a9fc",
   "metadata": {},
   "outputs": [],
   "source": [
    "from session import connect\n",
    "from session import query_graph"
   ]
  },
  {
   "cell_type": "code",
   "execution_count": 45,
   "id": "c95306ba-d8b5-4b1c-bf84-ef3aad797e29",
   "metadata": {},
   "outputs": [],
   "source": [
    "from query import graph_from_cypher, nx_to_pyvis, get_data_transactions"
   ]
  },
  {
   "cell_type": "code",
   "execution_count": 46,
   "id": "4eb2e5c0-3b33-4324-b663-c8a964906245",
   "metadata": {},
   "outputs": [],
   "source": [
    "driver = connect()"
   ]
  },
  {
   "cell_type": "code",
   "execution_count": 47,
   "id": "4370fc3a-85b9-40f7-aa73-8ee6834daa9f",
   "metadata": {},
   "outputs": [],
   "source": [
    "address = \"0x87cbc48075d7aa1760ac71c41e8bc289b6a31f56\"\n",
    "query = (f\"match (node:Entity) where node.pk= '{address}' match p=(node)-[:TRANSFERRED]-(n2) RETURN p \")"
   ]
  },
  {
   "cell_type": "code",
   "execution_count": 48,
   "id": "911e8125-edb5-43a4-bfe1-82976fc2850e",
   "metadata": {},
   "outputs": [],
   "source": [
    "with driver.session() as session:\n",
    "    res = session.execute_read(query_graph, query)"
   ]
  },
  {
   "cell_type": "code",
   "execution_count": 49,
   "id": "5a81428d-14bb-4a9c-b467-4ae483e55cdc",
   "metadata": {},
   "outputs": [],
   "source": [
    "G = graph_from_cypher(res)"
   ]
  },
  {
   "cell_type": "code",
   "execution_count": 50,
   "id": "22a55705-fdbf-488e-8628-040dc0c5948c",
   "metadata": {},
   "outputs": [
    {
     "name": "stdout",
     "output_type": "stream",
     "text": [
      "Local cdn resources have problems on chrome/safari when used in jupyter-notebook. \n"
     ]
    }
   ],
   "source": [
    "nt = Network('700px', '1000px', directed=True, notebook=True, font_color=\"#10000000\")"
   ]
  },
  {
   "cell_type": "code",
   "execution_count": 51,
   "id": "ec9f8db1-22cc-4174-b43f-c5b9dc35fe89",
   "metadata": {},
   "outputs": [
    {
     "data": {
      "text/html": [
       "\n",
       "        <iframe\n",
       "            width=\"1000px\"\n",
       "            height=\"700px\"\n",
       "            src=\"nx.html\"\n",
       "            frameborder=\"0\"\n",
       "            allowfullscreen\n",
       "            \n",
       "        ></iframe>\n",
       "        "
      ],
      "text/plain": [
       "<IPython.lib.display.IFrame at 0x7f4920eb0990>"
      ]
     },
     "execution_count": 51,
     "metadata": {},
     "output_type": "execute_result"
    }
   ],
   "source": [
    "nx_to_pyvis(nt, G)\n",
    "nt.show('nx.html')"
   ]
  }
 ],
 "metadata": {
  "kernelspec": {
   "display_name": "Python 3",
   "language": "python",
   "name": "python3"
  },
  "language_info": {
   "codemirror_mode": {
    "name": "ipython",
    "version": 3
   },
   "file_extension": ".py",
   "mimetype": "text/x-python",
   "name": "python",
   "nbconvert_exporter": "python",
   "pygments_lexer": "ipython3",
   "version": "3.7.12"
  }
 },
 "nbformat": 4,
 "nbformat_minor": 5
}
